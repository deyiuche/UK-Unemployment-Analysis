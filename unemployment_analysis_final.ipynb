{
 "cells": [
  {
   "cell_type": "markdown",
   "id": "1462c495",
   "metadata": {},
   "source": [
    "\n",
    "# UK Unemployment Analysis\n",
    "\n",
    "This project explores UK unemployment data, cleaning and preparing it for analysis, and visualizing trends over time (monthly, quarterly, annual).  \n",
    "The goal is to uncover patterns such as best/worst unemployment rates, long-term trends, and average unemployment by decade.\n"
   ]
  },
  {
   "cell_type": "code",
   "execution_count": null,
   "id": "390da999",
   "metadata": {},
   "outputs": [],
   "source": [
    "\n",
    "# Libraries\n",
    "import pandas as pd\n",
    "import numpy as np\n",
    "import matplotlib.pyplot as plt\n",
    "import seaborn as sns\n",
    "import plotly.express as px\n",
    "import warnings\n",
    "warnings.filterwarnings('ignore')\n",
    "\n",
    "print(\"✅ Libraries loaded\")\n"
   ]
  },
  {
   "cell_type": "code",
   "execution_count": null,
   "id": "603ab4d9",
   "metadata": {},
   "outputs": [],
   "source": [
    "\n",
    "# Load data\n",
    "filePath = \"data/series-160925.csv\"\n",
    "raw = pd.read_csv(filePath, dtype=str)\n",
    "raw.head(12)\n"
   ]
  },
  {
   "cell_type": "code",
   "execution_count": null,
   "id": "0dcaf3cb",
   "metadata": {},
   "outputs": [],
   "source": [
    "\n",
    "# Clean the data\n",
    "data = raw.iloc[7:]\n",
    "column_value = data.columns[1]\n",
    "data = data.rename(columns={\"Title\": \"Period\", column_value: \"Unemployment Rate (%)\"})\n",
    "\n",
    "# Clean unemployment values\n",
    "data[\"Unemployment Rate (%)\"] = (\n",
    "    data[\"Unemployment Rate (%)\"]\n",
    "    .astype(str).str.strip()\n",
    "    .str.replace(r\"[^\\d\\.\\-]\", \"\", regex=True)\n",
    ")\n",
    "data[\"Unemployment Rate (%)\"] = pd.to_numeric(data[\"Unemployment Rate (%)\"], errors=\"coerce\")\n",
    "\n",
    "data.head()\n"
   ]
  },
  {
   "cell_type": "code",
   "execution_count": null,
   "id": "c79fe9c6",
   "metadata": {},
   "outputs": [],
   "source": [
    "\n",
    "# Masks\n",
    "annual_mask    = data[\"Period\"].str.fullmatch(r\"\\d{4}\")\n",
    "quarterly_mask = data[\"Period\"].str.fullmatch(r\"\\d{4}\\sQ[1-4]\")\n",
    "monthly_mask   = data[\"Period\"].str.fullmatch(r\"\\d{4}\\s(?:JAN|FEB|MAR|APR|MAY|JUN|JUL|AUG|SEP|OCT|NOV|DEC)\")\n",
    "\n",
    "# Subsets\n",
    "annual    = data.loc[annual_mask,    [\"Period\", \"Unemployment Rate (%)\"]].copy()\n",
    "quarterly = data.loc[quarterly_mask, [\"Period\", \"Unemployment Rate (%)\"]].copy()\n",
    "monthly   = data.loc[monthly_mask,   [\"Period\", \"Unemployment Rate (%)\"]].copy()\n"
   ]
  },
  {
   "cell_type": "code",
   "execution_count": null,
   "id": "5874c8da",
   "metadata": {},
   "outputs": [],
   "source": [
    "\n",
    "# Monthly conversion\n",
    "def parse_month(period: str):\n",
    "    year, mon = period.split()\n",
    "    mon = mon.title()\n",
    "    return pd.to_datetime(f\"{year}-{mon}-01\", format=\"%Y-%b-%d\", errors=\"coerce\")\n",
    "\n",
    "monthly[\"Date\"] = monthly[\"Period\"].apply(parse_month)\n",
    "monthly = monthly.sort_values(\"Date\").reset_index(drop=True)\n",
    "\n",
    "# Quarterly conversion\n",
    "def parse_quarter(period: str):\n",
    "    year, q = period.split()\n",
    "    qmap = {\"Q1\": \"03-31\", \"Q2\": \"06-30\", \"Q3\": \"09-30\", \"Q4\": \"12-31\"}\n",
    "    return pd.to_datetime(f\"{year}-{qmap[q]}\", format=\"%Y-%m-%d\", errors=\"coerce\")\n",
    "\n",
    "quarterly[\"Date\"] = quarterly[\"Period\"].apply(parse_quarter)\n",
    "quarterly = quarterly.sort_values(\"Date\").reset_index(drop=True)\n",
    "\n",
    "# Annual conversion\n",
    "annual[\"Date\"] = pd.to_datetime(annual[\"Period\"] + \"-12-31\", format=\"%Y-%m-%d\", errors=\"coerce\")\n",
    "annual = annual.sort_values(\"Date\").reset_index(drop=True)\n"
   ]
  },
  {
   "cell_type": "code",
   "execution_count": null,
   "id": "cff76434",
   "metadata": {},
   "outputs": [],
   "source": [
    "\n",
    "print(\"Best unemployment:\", monthly.loc[monthly[\"Unemployment Rate (%)\"].idxmin()])\n",
    "print(\"Worst unemployment:\", monthly.loc[monthly[\"Unemployment Rate (%)\"].idxmax()])\n"
   ]
  },
  {
   "cell_type": "code",
   "execution_count": null,
   "id": "837078d8",
   "metadata": {},
   "outputs": [],
   "source": [
    "\n",
    "# Monthly trend\n",
    "plt.figure(figsize=(12,6))\n",
    "plt.plot(monthly[\"Date\"], monthly[\"Unemployment Rate (%)\"], label=\"Monthly\", color=\"blue\")\n",
    "plt.title(\"UK Unemployment Rate (Monthly)\")\n",
    "plt.xlabel(\"Date\")\n",
    "plt.ylabel(\"Unemployment Rate (%)\")\n",
    "plt.legend()\n",
    "plt.show()\n"
   ]
  },
  {
   "cell_type": "code",
   "execution_count": null,
   "id": "5fe91dc8",
   "metadata": {},
   "outputs": [],
   "source": [
    "\n",
    "# Quarterly trend\n",
    "plt.figure(figsize=(12,6))\n",
    "plt.plot(quarterly[\"Date\"], quarterly[\"Unemployment Rate (%)\"], label=\"Quarterly\", color=\"green\")\n",
    "plt.title(\"UK Unemployment Rate (Quarterly)\")\n",
    "plt.xlabel(\"Date\")\n",
    "plt.ylabel(\"Unemployment Rate (%)\")\n",
    "plt.legend()\n",
    "plt.show()\n"
   ]
  },
  {
   "cell_type": "code",
   "execution_count": null,
   "id": "904adc85",
   "metadata": {},
   "outputs": [],
   "source": [
    "\n",
    "# Annual trend\n",
    "plt.figure(figsize=(12,6))\n",
    "plt.plot(annual[\"Date\"], annual[\"Unemployment Rate (%)\"], label=\"Annual\", color=\"red\")\n",
    "plt.title(\"UK Unemployment Rate (Annual)\")\n",
    "plt.xlabel(\"Date\")\n",
    "plt.ylabel(\"Unemployment Rate (%)\")\n",
    "plt.legend()\n",
    "plt.show()\n"
   ]
  },
  {
   "cell_type": "code",
   "execution_count": null,
   "id": "01838e1d",
   "metadata": {},
   "outputs": [],
   "source": [
    "\n",
    "# Decade averages\n",
    "monthly[\"Year\"] = monthly[\"Date\"].dt.year\n",
    "by_decade = monthly.groupby((monthly[\"Year\"] // 10) * 10)[\"Unemployment Rate (%)\"].mean()\n",
    "\n",
    "by_decade.plot(kind=\"bar\", figsize=(10,5), title=\"Average Unemployment by Decade\")\n",
    "plt.show()\n"
   ]
  },
  {
   "cell_type": "markdown",
   "id": "a020b9db",
   "metadata": {},
   "source": [
    "\n",
    "### Conclusion\n",
    "\n",
    "- Unemployment was highest in the **1980s (~10%)**.  \n",
    "- Lowest periods were in the **1970s and 2020s (~4-5%)**.  \n",
    "- Long-term trend shows spikes during recessions and gradual declines afterward.  \n",
    "- Recent decades have seen lower and more stable unemployment rates.\n"
   ]
  }
 ],
 "metadata": {},
 "nbformat": 4,
 "nbformat_minor": 5
}
